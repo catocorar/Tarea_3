{
 "cells": [
  {
   "cell_type": "markdown",
   "metadata": {},
   "source": [
    " <h1><center>Tarea Entendiendo Jupyter Lab, Github, Python y Regresión Lineal</center></h1>\n",
    "Cesar Augusto Tocora Rubio"
   ]
  },
  {
   "cell_type": "markdown",
   "metadata": {},
   "source": [
    "## Introducción <a name=\"id1\"></a>\n",
    "Esta técnica usada para modelares, predecir e interpretar un fenómeno de la naturaleza donde se mezcla, de forma adecuada, modelos deterministicos y estocásticos.\n",
    "En este modelo se asume que una variable aleatoria, llamada respuesta, está determinada por la combinación lineal de otras variables regresoras y un error que tiene una distribucion, lo que permite herramientas de dos diciplinas, estadística y matemáticas, que enriquecen nuestro conocimiento del fenomeno natural.\n",
    "\n",
    "\n",
    "\"Veremos que es adecuado cuando se agregan regresoras, es el insesgado de minima varianza, y es validable el modelo\""
   ]
  },
  {
   "cell_type": "markdown",
   "metadata": {},
   "source": [
    "**Índice**   \n",
    "1. [Introducción](#id1)\n",
    "2. [Breve historia](#id2)\n",
    "3. [El planteamiento del algortimo](#id3)\n",
    "3. [Desarrollar un ejemplo de regresión lineal](#id4)\n",
    "4. [Conclusiones](#id5)"
   ]
  },
  {
   "cell_type": "markdown",
   "metadata": {},
   "source": [
    "## Breve historia<a name=\"id2\"></a>\n",
    "El problema de modelamiento para las orbitas de los planetas, propuesto por Legendre en 1805 y por Gauss en 1809, fueron los prologos para el inicio de esta metodología donde inicialmente se plantaba como minimos cuadrados, sin embargo, fue Francis Galton quien uso el termino REGRESIÓN en el siglo XIX para describir que las alturas de los descendientes de ancestros altos, tienden a regresar hacia abajo, posteriormente su trabajo se extendio a una generalización mas amplia por Udny Yule y Karl Pearson. Quien supone una una distribución Gaussiana condicionada para la variable respuesta es Ronald Fisher pero la distribución conjunta de las variables no necesariamente adquieren esta caracteristica, la cual está asociada de mejor manera a la metodología de Gauss. [Profundizar acá](https://es.wikipedia.org/wiki/An%C3%A1lisis_de_la_regresi%C3%B3n#:~:text=El%20t%C3%A9rmino%20%22regresi%C3%B3n%22%20fue%20acu%C3%B1ado,como%20regresi%C3%B3n%20hacia%20la%20media%20).\n",
    ").\n",
    "\n",
    "<div>\n",
    "<p style = 'text-align:center;'>\n",
    "<a href=\"http://www.matematicasdigitales.com/billetes-matematicos/\">\n",
    "<img src=\"http://www.matematicasdigitales.com/wp-content/uploads/Billete-Gauss-1024x506.jpg\" alt=\"JuveYell\" width=\"300px\">\n",
    "</p>\n",
    "</div>"
   ]
  },
  {
   "cell_type": "markdown",
   "metadata": {},
   "source": [
    "## Construyendo el modelo<a name=\"id3\"></a>\n",
    "En el ejemplo mas simple, regresión lineal simple, una variable aleatoria $Y$, que llamaremos respuesta, está determinada por la combinacion lineal de un conjunto de variables $X$, ya observadas, que llamaremos regresoras, Esta relacion está determinada por:\n",
    "\n",
    "$$Y= \\beta_{0}+\\beta_{1}X_{j}+ \\varepsilon_{j}$$\n",
    "\n",
    "Con las condiciones:\n",
    "\n",
    "1. $Y$ es una variable aleatoria\n",
    "2. $x$ es una variable Deterministica\n",
    "3. $\\varepsilon_{j} \\sim N(0,\\sigma)$\n",
    "4. $\\beta_{0}, \\beta_{1}$ son constantes reales\n",
    "5. $cov(\\varepsilon_{i} ,\\varepsilon_{j}=0)$ si $i\\neq j$\n",
    "\n",
    "\n",
    "Con estas restricciones nuestro interes es calcular $\\beta_{0}, \\beta_{1}$ restricto a una funcón de maxima verosimilitud de los errores. Tambien se puede demostrar que la estimacion de estos parametros via minimos cuadrados es igual.\n",
    "\n",
    "Esta estimación es la mas adecuada  en terminos de la varianza por el teorema de Gauss-Márkov [Info aquí](https://es.wikipedia.org/wiki/Teorema_de_Gauss-M%C3%A1rkov). para modelos lineales esta estimacion es la que tiene minima varianza. \n",
    "\n",
    "Para análisis del modelo, en terminos de Bondad y ajuste del mismo, es el que presenta mejor ajustes (menor valor) al evaluarlo con los criterios BIC [Info aqui](https://es.wikipedia.org/wiki/Criterio_de_informaci%C3%B3n_bayesiano), AIC [Info aqu](https://es.wikipedia.org/wiki/Criterio_de_informaci%C3%B3n_de_Akaike), entre otras, aunque popularmentes se practica con el uso del $R^{2}$ [Info aquí](https://es.wikipedia.org/wiki/Coeficiente_de_determinaci%C3%B3n), que selecciona el modelo de mayor valor, aunque este último puede enmascarar un un defecto del modelo."
   ]
  },
  {
   "cell_type": "markdown",
   "metadata": {},
   "source": [
    "## Construyendo el modelo<a name=\"id4\"></a>\n",
    "A modo ilustrativo se creara un modelo con la metodologia de regresión lineal.\n",
    "\n",
    "Se toman los datos de emisiones medidas por sensores agregados (promedio o suma) a unaturbina de gas que se encuentra ubicada en el noroeste de Turquíacon el fin de estudiar las emisiones de gases de combustion en una turbina. [Info aqui](https://archive.ics.uci.edu/ml/datasets/Gas+Turbine+CO+and+NOx+Emission+Data+Set)\n"
   ]
  },
  {
   "cell_type": "code",
   "execution_count": 1,
   "metadata": {},
   "outputs": [
    {
     "data": {
      "text/plain": [
       "AT      float64\n",
       "AP      float64\n",
       "AH      float64\n",
       "AFDP    float64\n",
       "GTEP    float64\n",
       "TIT     float64\n",
       "TAT     float64\n",
       "TEY     float64\n",
       "CDP     float64\n",
       "CO      float64\n",
       "NOX     float64\n",
       "dtype: object"
      ]
     },
     "execution_count": 1,
     "metadata": {},
     "output_type": "execute_result"
    }
   ],
   "source": [
    "import matplotlib.pyplot as plt\n",
    "import pandas as pd\n",
    "import pylab as pl\n",
    "import numpy as np\n",
    "%matplotlib inline\n",
    "\n",
    "path = 'C:/Users/VKVLL/Downloads/Por_Ahora_CT/Big_Data/Datos/pp_gas_emission/gt_2015.CSV'\n",
    "df = pd.read_csv(path)\n",
    "df.dtypes\n",
    "#carga de datos "
   ]
  },
  {
   "cell_type": "code",
   "execution_count": 2,
   "metadata": {},
   "outputs": [
    {
     "data": {
      "text/html": [
       "<div>\n",
       "<style scoped>\n",
       "    .dataframe tbody tr th:only-of-type {\n",
       "        vertical-align: middle;\n",
       "    }\n",
       "\n",
       "    .dataframe tbody tr th {\n",
       "        vertical-align: top;\n",
       "    }\n",
       "\n",
       "    .dataframe thead th {\n",
       "        text-align: right;\n",
       "    }\n",
       "</style>\n",
       "<table border=\"1\" class=\"dataframe\">\n",
       "  <thead>\n",
       "    <tr style=\"text-align: right;\">\n",
       "      <th></th>\n",
       "      <th>AT</th>\n",
       "      <th>AP</th>\n",
       "      <th>AH</th>\n",
       "      <th>AFDP</th>\n",
       "      <th>GTEP</th>\n",
       "      <th>TIT</th>\n",
       "      <th>TAT</th>\n",
       "      <th>TEY</th>\n",
       "      <th>CDP</th>\n",
       "      <th>CO</th>\n",
       "      <th>NOX</th>\n",
       "    </tr>\n",
       "  </thead>\n",
       "  <tbody>\n",
       "    <tr>\n",
       "      <th>0</th>\n",
       "      <td>1.95320</td>\n",
       "      <td>1020.1</td>\n",
       "      <td>84.985</td>\n",
       "      <td>2.5304</td>\n",
       "      <td>20.116</td>\n",
       "      <td>1048.7</td>\n",
       "      <td>544.92</td>\n",
       "      <td>116.27</td>\n",
       "      <td>10.799</td>\n",
       "      <td>7.4491</td>\n",
       "      <td>113.250</td>\n",
       "    </tr>\n",
       "    <tr>\n",
       "      <th>1</th>\n",
       "      <td>1.21910</td>\n",
       "      <td>1020.1</td>\n",
       "      <td>87.523</td>\n",
       "      <td>2.3937</td>\n",
       "      <td>18.584</td>\n",
       "      <td>1045.5</td>\n",
       "      <td>548.50</td>\n",
       "      <td>109.18</td>\n",
       "      <td>10.347</td>\n",
       "      <td>6.4684</td>\n",
       "      <td>112.020</td>\n",
       "    </tr>\n",
       "    <tr>\n",
       "      <th>2</th>\n",
       "      <td>0.94915</td>\n",
       "      <td>1022.2</td>\n",
       "      <td>78.335</td>\n",
       "      <td>2.7789</td>\n",
       "      <td>22.264</td>\n",
       "      <td>1068.8</td>\n",
       "      <td>549.95</td>\n",
       "      <td>125.88</td>\n",
       "      <td>11.256</td>\n",
       "      <td>3.6335</td>\n",
       "      <td>88.147</td>\n",
       "    </tr>\n",
       "    <tr>\n",
       "      <th>3</th>\n",
       "      <td>1.00750</td>\n",
       "      <td>1021.7</td>\n",
       "      <td>76.942</td>\n",
       "      <td>2.8170</td>\n",
       "      <td>23.358</td>\n",
       "      <td>1075.2</td>\n",
       "      <td>549.63</td>\n",
       "      <td>132.21</td>\n",
       "      <td>11.702</td>\n",
       "      <td>3.1972</td>\n",
       "      <td>87.078</td>\n",
       "    </tr>\n",
       "    <tr>\n",
       "      <th>4</th>\n",
       "      <td>1.28580</td>\n",
       "      <td>1021.6</td>\n",
       "      <td>76.732</td>\n",
       "      <td>2.8377</td>\n",
       "      <td>23.483</td>\n",
       "      <td>1076.2</td>\n",
       "      <td>549.68</td>\n",
       "      <td>133.58</td>\n",
       "      <td>11.737</td>\n",
       "      <td>2.3833</td>\n",
       "      <td>82.515</td>\n",
       "    </tr>\n",
       "  </tbody>\n",
       "</table>\n",
       "</div>"
      ],
      "text/plain": [
       "        AT      AP      AH    AFDP    GTEP     TIT     TAT     TEY     CDP  \\\n",
       "0  1.95320  1020.1  84.985  2.5304  20.116  1048.7  544.92  116.27  10.799   \n",
       "1  1.21910  1020.1  87.523  2.3937  18.584  1045.5  548.50  109.18  10.347   \n",
       "2  0.94915  1022.2  78.335  2.7789  22.264  1068.8  549.95  125.88  11.256   \n",
       "3  1.00750  1021.7  76.942  2.8170  23.358  1075.2  549.63  132.21  11.702   \n",
       "4  1.28580  1021.6  76.732  2.8377  23.483  1076.2  549.68  133.58  11.737   \n",
       "\n",
       "       CO      NOX  \n",
       "0  7.4491  113.250  \n",
       "1  6.4684  112.020  \n",
       "2  3.6335   88.147  \n",
       "3  3.1972   87.078  \n",
       "4  2.3833   82.515  "
      ]
     },
     "execution_count": 2,
     "metadata": {},
     "output_type": "execute_result"
    }
   ],
   "source": [
    "df.head()"
   ]
  },
  {
   "cell_type": "markdown",
   "metadata": {},
   "source": [
    "Se toma como regresora la variable presión de escape de la turbina de gas (GTEP) mbar, y la respuesta como carbono (CO) mg / m3"
   ]
  },
  {
   "cell_type": "code",
   "execution_count": 3,
   "metadata": {},
   "outputs": [
    {
     "name": "stdout",
     "output_type": "stream",
     "text": [
      "\n"
     ]
    }
   ],
   "source": [
    "#seleccion de variables\n",
    "cdf = df[['CO','GTEP']]\n",
    "cdf.head(9)\n",
    "print()"
   ]
  },
  {
   "cell_type": "markdown",
   "metadata": {},
   "source": [
    "Se seleccionanel una fracción de los datos como se hace generalmente en el entrenamiento de modelos para provar su eficiencia"
   ]
  },
  {
   "cell_type": "code",
   "execution_count": 4,
   "metadata": {},
   "outputs": [],
   "source": [
    "msk = np.random.rand(len(df)) < 0.8\n",
    "train = cdf[msk]\n",
    "test = cdf[~msk]"
   ]
  },
  {
   "cell_type": "markdown",
   "metadata": {},
   "source": [
    "Se estima el modelo con la sklearn Y se invocanlos valores relevantes a este modelo"
   ]
  },
  {
   "cell_type": "code",
   "execution_count": 5,
   "metadata": {},
   "outputs": [
    {
     "name": "stdout",
     "output_type": "stream",
     "text": [
      "Coefficients:  [[-0.27520389]]\n",
      "Intercept:  [10.3194222]\n"
     ]
    }
   ],
   "source": [
    "#Entrenamiento del modelo\n",
    "from sklearn import linear_model\n",
    "regr = linear_model.LinearRegression()\n",
    "train_x = np.asanyarray(train[['GTEP']])\n",
    "train_y = np.asanyarray(train[['CO']])\n",
    "regr.fit (train_x, train_y)\n",
    "# The coefficients\n",
    "print ('Coefficients: ', regr.coef_)\n",
    "print ('Intercept: ',regr.intercept_)"
   ]
  },
  {
   "cell_type": "code",
   "execution_count": 6,
   "metadata": {},
   "outputs": [
    {
     "data": {
      "text/plain": [
       "Text(0,0.5,'CO')"
      ]
     },
     "execution_count": 6,
     "metadata": {},
     "output_type": "execute_result"
    },
    {
     "data": {
      "image/png": "[encoded data removed]",
      "text/plain": [
       "<Figure size 432x288 with 1 Axes>"
      ]
     },
     "metadata": {
      "needs_background": "light"
     },
     "output_type": "display_data"
    }
   ],
   "source": [
    "plt.scatter(train.GTEP, train.CO,  color='lightsteelblue')\n",
    "plt.plot(train_x, regr.coef_[0][0]*train_x + regr.intercept_[0], '-r')\n",
    "plt.xlabel(\"GTEP\")\n",
    "plt.ylabel(\"CO\")"
   ]
  },
  {
   "cell_type": "markdown",
   "metadata": {},
   "source": [
    "La gráfica suguiere una relación inversa (por cada unidad de aumento en la presión disminuye 0.2 unidades de CO) en la presion de escape de la turbina y la emision de carbono aunque se observan, aunque existen algunos valores que suguieren una dispersion que se envuentra ligada a otros factores."
   ]
  },
  {
   "cell_type": "code",
   "execution_count": 7,
   "metadata": {},
   "outputs": [
    {
     "name": "stdout",
     "output_type": "stream",
     "text": [
      "Mean absolute error: 1.16\n",
      "Residual sum of squares (MSE): 3.60\n",
      "R2-score: 0.30\n"
     ]
    }
   ],
   "source": [
    "from sklearn.metrics import r2_score\n",
    "\n",
    "test_x = np.asanyarray(test[['GTEP']])\n",
    "test_y = np.asanyarray(test[['CO']])\n",
    "train_y_hat = regr.predict(train_x)\n",
    "\n",
    "print(\"Mean absolute error: %.2f\" % np.mean(np.absolute(train_y_hat - train_y)))\n",
    "print(\"Residual sum of squares (MSE): %.2f\" % np.mean((train_y_hat - train_y) ** 2))\n",
    "print(\"R2-score: %.2f\" % r2_score(train_y , train_y_hat) )"
   ]
  },
  {
   "cell_type": "markdown",
   "metadata": {},
   "source": [
    "## Opcion 2 para la estimacion\n",
    "Se estima el modelo con la libreria statsmodels, para obtener resultados que son de interes comun para los modelos estadísticos"
   ]
  },
  {
   "cell_type": "code",
   "execution_count": 8,
   "metadata": {},
   "outputs": [
    {
     "name": "stdout",
     "output_type": "stream",
     "text": [
      "                            OLS Regression Results                            \n",
      "==============================================================================\n",
      "Dep. Variable:                      y   R-squared:                       0.295\n",
      "Model:                            OLS   Adj. R-squared:                  0.295\n",
      "Method:                 Least Squares   F-statistic:                     2495.\n",
      "Date:                Wed, 17 Mar 2021   Prob (F-statistic):               0.00\n",
      "Time:                        09:46:19   Log-Likelihood:                -12262.\n",
      "No. Observations:                5953   AIC:                         2.453e+04\n",
      "Df Residuals:                    5951   BIC:                         2.454e+04\n",
      "Df Model:                           1                                         \n",
      "Covariance Type:            nonrobust                                         \n",
      "==============================================================================\n",
      "                 coef    std err          t      P>|t|      [0.025      0.975]\n",
      "------------------------------------------------------------------------------\n",
      "const         10.3194      0.146     70.613      0.000      10.033      10.606\n",
      "x1            -0.2752      0.006    -49.951      0.000      -0.286      -0.264\n",
      "==============================================================================\n",
      "Omnibus:                     6808.515   Durbin-Watson:                   0.893\n",
      "Prob(Omnibus):                  0.000   Jarque-Bera (JB):          1292118.905\n",
      "Skew:                           5.687   Prob(JB):                         0.00\n",
      "Kurtosis:                      74.273   Cond. No.                         158.\n",
      "==============================================================================\n",
      "\n",
      "Notes:\n",
      "[1] Standard Errors assume that the covariance matrix of the errors is correctly specified.\n"
     ]
    }
   ],
   "source": [
    "#Regresion con el paquete statsmodels\n",
    "import statsmodels.api as sm\n",
    "import statsmodels.formula.api as smf\n",
    "from sklearn.model_selection import train_test_split\n",
    "\n",
    "# Creación del modelo utilizando matrices como en scikitlearn\n",
    "# ==============================================================================\n",
    "# A la matriz de predictores se le tiene que añadir una columna de 1s para el intercept del modelo\n",
    "X_train = sm.add_constant(train_x, prepend=True)\n",
    "modelo = sm.OLS(endog=train_y, exog=X_train,)\n",
    "modelo = modelo.fit()\n",
    "print(modelo.summary())"
   ]
  },
  {
   "cell_type": "markdown",
   "metadata": {},
   "source": [
    "Las medidas para la descripcion del modelo y validación del modelo son similares con las dos metodologías (paquetes). Ademas se observa que la presion es significativa para este modelo con intercepto , aunque el $R^2$ suguiere un ajuste inadecuado $AIC$ y $BIC$ Suguieren un buen ajuste, y en conjunto con la diferencia de algunas observaciones indican que sea apropiado el agregar mas variables predictoras."
   ]
  },
  {
   "cell_type": "markdown",
   "metadata": {},
   "source": [
    "## Cconcluciones<a name=\"id5\"></a>\n",
    "\n",
    "El modelado de eventos naturales bajo estos modelos parecen ser los mas adecuados ya que conjuntamente integran las propiedades de minimos cuadrados y de los modelos estocasticos, agregando presicion, por lo expuesto en el teorema Gauss-Márkov, y aleatoriedad. "
   ]
  },
  {
   "cell_type": "markdown",
   "metadata": {},
   "source": [
    "## Referencias\n",
    "* [Articulo datos](https://journals.tubitak.gov.tr/elektrik/issues/elk-19-27-6/elk-27-6-54-1807-87.pdf)\n",
    "* [Datos](https://archive.ics.uci.edu/ml/datasets/Gas+Turbine+CO+and+NOx+Emission+Data+Set)\n",
    "* [Teoria](https://es.wikipedia.org/wiki/An%C3%A1lisis_de_la_regresi%C3%B3n#:~:text=El%20t%C3%A9rmino%20%22regresi%C3%B3n%22%20fue%20acu%C3%B1ado,como%20regresi%C3%B3n%20hacia%20la%20media%20) \n"
   ]
  },
  {
   "cell_type": "code",
   "execution_count": null,
   "metadata": {},
   "outputs": [],
   "source": []
  }
 ],
 "metadata": {
  "kernelspec": {
   "display_name": "Python 3",
   "language": "python",
   "name": "python3"
  },
  "language_info": {
   "codemirror_mode": {
    "name": "ipython",
    "version": 3
   },
   "file_extension": ".py",
   "mimetype": "text/x-python",
   "name": "python",
   "nbconvert_exporter": "python",
   "pygments_lexer": "ipython3",
   "version": "3.7.1"
  }
 },
 "nbformat": 4,
 "nbformat_minor": 4
}
